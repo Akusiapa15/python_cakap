{
  "nbformat": 4,
  "nbformat_minor": 0,
  "metadata": {
    "colab": {
      "provenance": [],
      "toc_visible": true,
      "authorship_tag": "ABX9TyNaUBhJW5NM4DgiCbASHW6C",
      "include_colab_link": true
    },
    "kernelspec": {
      "name": "python3",
      "display_name": "Python 3"
    },
    "language_info": {
      "name": "python"
    }
  },
  "cells": [
    {
      "cell_type": "markdown",
      "metadata": {
        "id": "view-in-github",
        "colab_type": "text"
      },
      "source": [
        "<a href=\"https://colab.research.google.com/github/Akusiapa15/python_cakap/blob/main/Latihan.ipynb\" target=\"_parent\"><img src=\"https://colab.research.google.com/assets/colab-badge.svg\" alt=\"Open In Colab\"/></a>"
      ]
    },
    {
      "cell_type": "code",
      "source": [
        "# Gaji per jam:\n",
        "gaji_per_jam = 10000 # Asumsi, ubah jika diketahui\n",
        "\n",
        "# Lama kerja:\n",
        "lama_kerja_minggu = 5\n",
        "lama_kerja_jam = lama_kerja_minggu * 40 # Asumsi 40 jam kerja per minggu\n",
        "\n",
        "# Total pendapatan sebelum pajak:\n",
        "total_pendapatan = gaji_per_jam * lama_kerja_jam\n",
        "\n",
        "# Pajak:\n",
        "pajak = 0.14 * total_pendapatan\n",
        "\n",
        "# Pendapatan bersih:\n",
        "pendapatan_bersih = total_pendapatan - pajak\n",
        "\n",
        "# Biaya pakaian dan aksesoris:\n",
        "biaya_pakaian_aksesoris = 0.10 * pendapatan_bersih\n",
        "\n",
        "# Biaya alat tulis:\n",
        "biaya_alat_tulis = 0.01 * pendapatan_bersih\n",
        "\n",
        "# Total pengeluaran:\n",
        "total_pengeluaran = biaya_pakaian_aksesoris + biaya_alat_tulis\n",
        "\n",
        "# Sisa uang:\n",
        "sisa_uang = pendapatan_bersih - total_pengeluaran\n",
        "\n",
        "# Sedekah:\n",
        "sedekah = 0.25 * sisa_uang\n",
        "\n",
        "# Uang untuk anak yatim:\n",
        "uang_anak_yatim = 0.30 * sedekah\n",
        "\n",
        "# Uang untuk kaum dhuafa:\n",
        "uang_kaum_dhuafa = sedekah - uang_anak_yatim\n",
        "\n",
        "# Output:\n",
        "print(\"Pendapatan Budi selama libur musim panas sebelum pajak:\", total_pendapatan)\n",
        "print(\"Pendapatan Budi selama libur musim panas setelah pajak:\", pendapatan_bersih)\n",
        "print(\"Jumlah uang yang akan Budi habiskan untuk membeli pakaian dan aksesoris:\", biaya_pakaian_aksesoris)\n",
        "print(\"Jumlah uang yang akan Budi habiskan untuk membeli alat tulis:\", biaya_alat_tulis)\n",
        "print(\"Jumlah uang yang akan Budi sedekahkan:\", sedekah)\n",
        "print(\"Jumlah uang yang akan diterima anak yatim:\", uang_anak_yatim)\n",
        "print(\"Jumlah uang yang akan diterima kaum dhuafa:\", uang_kaum_dhuafa)"
      ],
      "metadata": {
        "colab": {
          "base_uri": "https://localhost:8080/"
        },
        "id": "0q4UmjKkQk22",
        "outputId": "982002ab-d79f-43d0-82ba-1a3fd6eebac6"
      },
      "execution_count": 7,
      "outputs": [
        {
          "output_type": "stream",
          "name": "stdout",
          "text": [
            "Pendapatan Budi selama libur musim panas sebelum pajak: 2000000\n",
            "Pendapatan Budi selama libur musim panas setelah pajak: 1720000.0\n",
            "Jumlah uang yang akan Budi habiskan untuk membeli pakaian dan aksesoris: 172000.0\n",
            "Jumlah uang yang akan Budi habiskan untuk membeli alat tulis: 17200.0\n",
            "Jumlah uang yang akan Budi sedekahkan: 382700.0\n",
            "Jumlah uang yang akan diterima anak yatim: 114810.0\n",
            "Jumlah uang yang akan diterima kaum dhuafa: 267890.0\n"
          ]
        }
      ]
    }
  ]
}